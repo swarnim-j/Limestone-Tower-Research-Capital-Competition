{
 "cells": [
  {
   "attachments": {},
   "cell_type": "markdown",
   "metadata": {},
   "source": [
    "## Limestone Data Challenge\n",
    "Swarnim Jain & Tanmay Gejapati"
   ]
  },
  {
   "cell_type": "code",
   "execution_count": 1,
   "metadata": {},
   "outputs": [],
   "source": [
    "import pandas as pd\n",
    "import numpy as np\n",
    "from sklearn.cluster import KMeans\n",
    "from sklearn.preprocessing import StandardScaler\n",
    "from matplotlib import pyplot as plt\n",
    "from sklearn.metrics import silhouette_score\n",
    "from sklearn.cluster import SpectralClustering\n",
    "from xgboost import XGBRegressor\n",
    "from scipy.optimize import minimize"
   ]
  },
  {
   "cell_type": "code",
   "execution_count": 2,
   "metadata": {},
   "outputs": [],
   "source": [
    "'''\n",
    "This code imports necessary libraries and performs data preparation steps such as loading, \n",
    "cleaning, and standardizing the data for analysis.\n",
    "'''\n",
    "\n",
    "# Load data\n",
    "stock_prices = pd.read_csv(\"data_challenge_stock_prices.csv\")\n",
    "index_prices = pd.read_csv(\"data_challenge_index_prices.csv\")\n",
    "\n",
    "# Calculate returns\n",
    "stock_returns = stock_prices.pct_change().dropna()\n",
    "index_returns = index_prices.pct_change().dropna()\n",
    "\n",
    "# Normalize stock returns\n",
    "scaler = StandardScaler()\n",
    "scaled_stock_returns = scaler.fit_transform(stock_returns)"
   ]
  },
  {
   "attachments": {},
   "cell_type": "markdown",
   "metadata": {},
   "source": [
    "#### Problem Statement - 1\n",
    "\n",
    "We have used to methods to find the number of clusters for the stocks. One is the gap statistic method and the other is using silhouette scores, along with KMeans in both. The reason for using two methods is to reduce the likelihood of making an error. Both methods gave the same result of M = 4 clusters or 4 sectors. The optimal cluster for the gap statistic method is inferred by the maxima, i.e., peak of the plot. For silhouette scores, we use the elbow method which gives the optimal number of clusters to be the point where the slope of the plot changes abruptly. We did not run this for numbers about 15-25 because the results were evidently getting worse, and according to the nature of the problem, having such a high number was not reasonable, wheras 4 is reasonable for the number of sectors. The plot and code for each method is given below."
   ]
  },
  {
   "cell_type": "code",
   "execution_count": 3,
   "metadata": {},
   "outputs": [
    {
     "name": "stderr",
     "output_type": "stream",
     "text": [
      "C:\\Users\\swarn\\AppData\\Local\\Packages\\PythonSoftwareFoundation.Python.3.9_qbz5n2kfra8p0\\LocalCache\\local-packages\\Python39\\site-packages\\sklearn\\cluster\\_kmeans.py:870: FutureWarning: The default value of `n_init` will change from 10 to 'auto' in 1.4. Set the value of `n_init` explicitly to suppress the warning\n",
      "  warnings.warn(\n",
      "C:\\Users\\swarn\\AppData\\Local\\Packages\\PythonSoftwareFoundation.Python.3.9_qbz5n2kfra8p0\\LocalCache\\local-packages\\Python39\\site-packages\\sklearn\\cluster\\_kmeans.py:870: FutureWarning: The default value of `n_init` will change from 10 to 'auto' in 1.4. Set the value of `n_init` explicitly to suppress the warning\n",
      "  warnings.warn(\n",
      "C:\\Users\\swarn\\AppData\\Local\\Temp/ipykernel_42444/2055480952.py:27: FutureWarning: The frame.append method is deprecated and will be removed from pandas in a future version. Use pandas.concat instead.\n",
      "  resultsdf = resultsdf.append({'cluster_count': k, 'gap': gap}, ignore_index=True)\n",
      "C:\\Users\\swarn\\AppData\\Local\\Packages\\PythonSoftwareFoundation.Python.3.9_qbz5n2kfra8p0\\LocalCache\\local-packages\\Python39\\site-packages\\sklearn\\cluster\\_kmeans.py:870: FutureWarning: The default value of `n_init` will change from 10 to 'auto' in 1.4. Set the value of `n_init` explicitly to suppress the warning\n",
      "  warnings.warn(\n",
      "C:\\Users\\swarn\\AppData\\Local\\Packages\\PythonSoftwareFoundation.Python.3.9_qbz5n2kfra8p0\\LocalCache\\local-packages\\Python39\\site-packages\\sklearn\\cluster\\_kmeans.py:870: FutureWarning: The default value of `n_init` will change from 10 to 'auto' in 1.4. Set the value of `n_init` explicitly to suppress the warning\n",
      "  warnings.warn(\n",
      "C:\\Users\\swarn\\AppData\\Local\\Packages\\PythonSoftwareFoundation.Python.3.9_qbz5n2kfra8p0\\LocalCache\\local-packages\\Python39\\site-packages\\sklearn\\cluster\\_kmeans.py:870: FutureWarning: The default value of `n_init` will change from 10 to 'auto' in 1.4. Set the value of `n_init` explicitly to suppress the warning\n",
      "  warnings.warn(\n",
      "C:\\Users\\swarn\\AppData\\Local\\Packages\\PythonSoftwareFoundation.Python.3.9_qbz5n2kfra8p0\\LocalCache\\local-packages\\Python39\\site-packages\\sklearn\\cluster\\_kmeans.py:870: FutureWarning: The default value of `n_init` will change from 10 to 'auto' in 1.4. Set the value of `n_init` explicitly to suppress the warning\n",
      "  warnings.warn(\n",
      "C:\\Users\\swarn\\AppData\\Local\\Temp/ipykernel_42444/2055480952.py:27: FutureWarning: The frame.append method is deprecated and will be removed from pandas in a future version. Use pandas.concat instead.\n",
      "  resultsdf = resultsdf.append({'cluster_count': k, 'gap': gap}, ignore_index=True)\n"
     ]
    },
    {
     "data": {
      "image/png": "[encoded data removed]",
      "text/plain": [
       "<Figure size 432x288 with 1 Axes>"
      ]
     },
     "metadata": {
      "needs_background": "light"
     },
     "output_type": "display_data"
    }
   ],
   "source": [
    "'''\n",
    "This code defines a function to calculate the optimal number of clusters for KMeans \n",
    "clustering using the gap statistic method, and generates a plot of the gap statistic \n",
    "curve to visualize the results. The function takes in the standardized financial data as \n",
    "input and returns the optimal number of clusters and a DataFrame of the gap statistics \n",
    "for different cluster counts. The plot shows the relationship between the number of \n",
    "clusters and the gap statistic, with the optimal number of clusters marked by the peak in the curve,\n",
    "which is seen highest at M = 4.\n",
    "'''\n",
    "\n",
    "def gap_statistic(data, nrefs=3, max_clusters=15):\n",
    "    gaps = np.zeros((len(range(1, max_clusters)),))\n",
    "    resultsdf = pd.DataFrame({'cluster_count': [], 'gap': []})\n",
    "    for gap_index, k in enumerate(range(1, max_clusters)):\n",
    "        ref_disps = np.zeros(nrefs)\n",
    "        for i in range(nrefs):\n",
    "            random_data = np.random.random_sample(size=data.T.shape)\n",
    "            km = KMeans(k, random_state=42)\n",
    "            km.fit(random_data)\n",
    "            ref_disp = km.inertia_\n",
    "            ref_disps[i] = ref_disp\n",
    "        km = KMeans(k, random_state=42)\n",
    "        km.fit(data.T)\n",
    "        orig_disp = km.inertia_\n",
    "        gap = np.log(np.mean(ref_disps)) - np.log(orig_disp)\n",
    "        gaps[gap_index] = gap\n",
    "        resultsdf = resultsdf.append({'cluster_count': k, 'gap': gap}, ignore_index=True)\n",
    "    return (gaps.argmax() + 1, resultsdf)\n",
    "\n",
    "\n",
    "m, results = gap_statistic(scaled_stock_returns)\n",
    "\n",
    "# Plot the gap statistic curve\n",
    "plt.plot(results['cluster_count'], results['gap'], linestyle='--', marker='o', color='b')\n",
    "plt.xlabel('Number of clusters (sectors)')\n",
    "plt.ylabel('Gap statistic')\n",
    "plt.show()"
   ]
  },
  {
   "cell_type": "code",
   "execution_count": 5,
   "metadata": {},
   "outputs": [
    {
     "name": "stderr",
     "output_type": "stream",
     "text": [
      "C:\\Users\\swarn\\AppData\\Local\\Packages\\PythonSoftwareFoundation.Python.3.9_qbz5n2kfra8p0\\LocalCache\\local-packages\\Python39\\site-packages\\sklearn\\cluster\\_kmeans.py:870: FutureWarning: The default value of `n_init` will change from 10 to 'auto' in 1.4. Set the value of `n_init` explicitly to suppress the warning\n",
      "  warnings.warn(\n",
      "C:\\Users\\swarn\\AppData\\Local\\Packages\\PythonSoftwareFoundation.Python.3.9_qbz5n2kfra8p0\\LocalCache\\local-packages\\Python39\\site-packages\\sklearn\\cluster\\_kmeans.py:870: FutureWarning: The default value of `n_init` will change from 10 to 'auto' in 1.4. Set the value of `n_init` explicitly to suppress the warning\n",
      "  warnings.warn(\n",
      "C:\\Users\\swarn\\AppData\\Local\\Packages\\PythonSoftwareFoundation.Python.3.9_qbz5n2kfra8p0\\LocalCache\\local-packages\\Python39\\site-packages\\sklearn\\cluster\\_kmeans.py:870: FutureWarning: The default value of `n_init` will change from 10 to 'auto' in 1.4. Set the value of `n_init` explicitly to suppress the warning\n",
      "  warnings.warn(\n",
      "C:\\Users\\swarn\\AppData\\Local\\Packages\\PythonSoftwareFoundation.Python.3.9_qbz5n2kfra8p0\\LocalCache\\local-packages\\Python39\\site-packages\\sklearn\\cluster\\_kmeans.py:870: FutureWarning: The default value of `n_init` will change from 10 to 'auto' in 1.4. Set the value of `n_init` explicitly to suppress the warning\n",
      "  warnings.warn(\n"
     ]
    },
    {
     "data": {
      "image/png": "[encoded data removed]",
      "text/plain": [
       "<Figure size 432x288 with 1 Axes>"
      ]
     },
     "metadata": {
      "needs_background": "light"
     },
     "output_type": "display_data"
    }
   ],
   "source": [
    "'''\n",
    "This code calculates the silhouette score for each number of clusters (sectors) using KMeans\n",
    "clustering and generates a plot of the silhouette score curve to evaluate the clustering quality\n",
    "by the Elbow method. There is a distince elbow at M = 4, indicating that the optimal number of clusters.\n",
    "'''\n",
    "\n",
    "silhouette_scores = []\n",
    "for k in range(2, 16):\n",
    "    kmeans = KMeans(n_clusters=k, random_state=42)\n",
    "    cluster_labels = kmeans.fit_predict(scaled_stock_returns.T)\n",
    "    silhouette_avg = silhouette_score(scaled_stock_returns.T, cluster_labels)\n",
    "    silhouette_scores.append(silhouette_avg)\n",
    "\n",
    "# Plot the silhouette score curve\n",
    "plt.plot(range(2, 16), silhouette_scores, marker='o', color='b')\n",
    "plt.xlabel('Number of clusters (sectors)')\n",
    "plt.ylabel('Silhouette score')\n",
    "plt.show()"
   ]
  },
  {
   "attachments": {},
   "cell_type": "markdown",
   "metadata": {},
   "source": [
    "#### Problem Statement - 2\n",
    "\n",
    "To find the distribution of stocks in each sector (4), we have used the KMeans clustering algorithm as well as spectral clustering. Both give the exact same stock distribution in each sector. The code for both is given below."
   ]
  },
  {
   "cell_type": "code",
   "execution_count": 6,
   "metadata": {},
   "outputs": [
    {
     "name": "stdout",
     "output_type": "stream",
     "text": [
      "[0, 1, 4, 10, 11, 14, 18, 20, 21, 22, 25, 26, 38, 39, 43, 45, 49, 54, 67, 75, 78, 79, 82, 88, 90]\n",
      "[5, 13, 15, 24, 31, 34, 35, 37, 48, 56, 61, 62, 64, 65, 68, 70, 76, 83, 85, 86, 89, 93, 94, 95, 97]\n",
      "[8, 12, 27, 29, 30, 36, 40, 41, 44, 46, 50, 52, 55, 57, 59, 69, 71, 73, 74, 77, 80, 84, 92, 96, 99]\n",
      "[2, 3, 6, 7, 9, 16, 17, 19, 23, 28, 32, 33, 42, 47, 51, 53, 58, 60, 63, 66, 72, 81, 87, 91, 98]\n"
     ]
    },
    {
     "name": "stderr",
     "output_type": "stream",
     "text": [
      "C:\\Users\\swarn\\AppData\\Local\\Packages\\PythonSoftwareFoundation.Python.3.9_qbz5n2kfra8p0\\LocalCache\\local-packages\\Python39\\site-packages\\sklearn\\manifold\\_spectral_embedding.py:274: UserWarning: Graph is not fully connected, spectral embedding may not work as expected.\n",
      "  warnings.warn(\n"
     ]
    },
    {
     "data": {
      "text/plain": [
       "'\\nAlternative clustering using KMeans, results are identical to spectral clustering:\\n\\n# Cluster stocks into sectors\\nkmeans = KMeans(n_clusters=M).fit(scaled_stock_returns.T)\\nsectors = kmeans.labels_\\n\\n# Create a dictionary with sector as key and list of stocks as value\\nsectors = {i: [] for i in range(M)}\\nfor stock, label in enumerate(stock_labels):\\n    sectors[label].append(stock)\\n\\nfor sector in sectors:\\n    print(sectors[sector])\\n'"
      ]
     },
     "execution_count": 6,
     "metadata": {},
     "output_type": "execute_result"
    }
   ],
   "source": [
    "M = 4 # optimum number of clusters (stock sectors)\n",
    "\n",
    "'''\n",
    "This code performs spectral clustering on the standardized financial data using the \n",
    "nearest neighbors method and assigns stocks to different sectors. It then creates a \n",
    "dictionary with each sector as a key and a list of stocks belonging to that sector \n",
    "as the corresponding value, and prints the list of stocks for each sector.\n",
    "'''\n",
    "\n",
    "spectral_clustering = SpectralClustering(n_clusters=M, affinity='nearest_neighbors')\n",
    "stock_labels = spectral_clustering.fit_predict(scaled_stock_returns.T)\n",
    "\n",
    "sectors = {i: [] for i in range(M)}\n",
    "for stock, label in enumerate(stock_labels):\n",
    "    sectors[label].append(stock)\n",
    "\n",
    "for sector in sectors:\n",
    "    print(sectors[sector])\n",
    "\n",
    "'''\n",
    "Alternative clustering using KMeans, results are identical to spectral clustering:\n",
    "\n",
    "# Cluster stocks into sectors\n",
    "kmeans = KMeans(n_clusters=M).fit(scaled_stock_returns.T)\n",
    "sectors = kmeans.labels_\n",
    "\n",
    "# Create a dictionary with sector as key and list of stocks as value\n",
    "sectors = {i: [] for i in range(M)}\n",
    "for stock, label in enumerate(stock_labels):\n",
    "    sectors[label].append(stock)\n",
    "\n",
    "for sector in sectors:\n",
    "    print(sectors[sector])\n",
    "'''"
   ]
  },
  {
   "attachments": {},
   "cell_type": "markdown",
   "metadata": {},
   "source": [
    "#### Problem Statement - 3 & 4\n",
    "\n",
    "To find the correlation between the individual stocks and each index, we used XGBooster (eXtreme Gradient Boosting) algorithm, a supervised learning ML model. It is also able to account for the Gaussian noise present in $R_{t}^{I_{i}}$ as it can capture complex relationships. We used the returns of the index as the target variable and the returns of the stocks of a sector as the features. We tried running the model for each sector separately and also for all the stocks together. There was practically no difference in the predictive correlations for each sector and for all the stocks together. Each index's predictive correlation with the stock returns is approximately greater than 40% while the average is about 45.6%, hence the assumption that each index is strongly correlated with a single sector seems to hold true. \n",
    "\n",
    "The covariance matrix, $\\Sigma_{k \\times k}$ where $k=15$ (all 15 indices have been solved), is calculated from the predicted returns recieved ftom above method. The predictions, $\\mu_{k \\times N}$, are also calculated. The code for the model is given below."
   ]
  },
  {
   "cell_type": "code",
   "execution_count": 13,
   "metadata": {},
   "outputs": [
    {
     "name": "stdout",
     "output_type": "stream",
     "text": [
      "Index 0: predictive correlation = 0.4579333533660824\n",
      "Index 1: predictive correlation = 0.3931081910695898\n"
     ]
    },
    {
     "name": "stderr",
     "output_type": "stream",
     "text": [
      "C:\\Users\\swarn\\AppData\\Local\\Packages\\PythonSoftwareFoundation.Python.3.9_qbz5n2kfra8p0\\LocalCache\\local-packages\\Python39\\site-packages\\numpy\\lib\\function_base.py:2853: RuntimeWarning: invalid value encountered in divide\n",
      "  c /= stddev[:, None]\n",
      "C:\\Users\\swarn\\AppData\\Local\\Packages\\PythonSoftwareFoundation.Python.3.9_qbz5n2kfra8p0\\LocalCache\\local-packages\\Python39\\site-packages\\numpy\\lib\\function_base.py:2854: RuntimeWarning: invalid value encountered in divide\n",
      "  c /= stddev[None, :]\n"
     ]
    },
    {
     "name": "stdout",
     "output_type": "stream",
     "text": [
      "Index 2: predictive correlation = 0.601785494340213\n",
      "Index 3: predictive correlation = 0.46536130038755935\n",
      "Index 4: predictive correlation = 0.46107299942362656\n",
      "Index 5: predictive correlation = 0.5777217657474613\n",
      "Index 6: predictive correlation = 0.4575896206928276\n",
      "Index 7: predictive correlation = 0.3882095905333838\n",
      "Index 8: predictive correlation = 0.3759736690752824\n",
      "Index 9: predictive correlation = 0.46752678814514514\n",
      "Index 10: predictive correlation = 0.466392667647596\n",
      "Index 11: predictive correlation = 0.3863738949625941\n",
      "Index 12: predictive correlation = 0.3851173003439932\n",
      "Index 13: predictive correlation = 0.38284529778353965\n",
      "Index 14: predictive correlation = 0.5879296014024196\n"
     ]
    }
   ],
   "source": [
    "'''\n",
    "This code runs a Gradient Boosting model (supervised learning) on each sector to predict the returns of each \n",
    "index. It then calculates the predictive correlation between the predicted returns \n",
    "and the actual returns of each index. Each predictive correlation is approximately > 40%.\n",
    "This model resulted in significantly higher correlations as compared to LinearRegression, \n",
    "Ridge, Elastic Net and Lasso models, each of which had similar predictive correlations.\n",
    "\n",
    "Using all stocks instead of those of a single sector leads to practically identical results,\n",
    "thus that is a fair assumption to make.\n",
    "'''\n",
    "\n",
    "def predict_index_returns(index_returns, stock_returns, sectors):\n",
    "    predictions = []\n",
    "    correlations = []\n",
    "    for i in range(len(index_returns.columns)):\n",
    "        xgb = XGBRegressor()\n",
    "        best_corr = 0\n",
    "        best_pred = None\n",
    "        for j in range(len(sectors)):\n",
    "            sector_returns = stock_returns.iloc[:, sectors[j]]\n",
    "            xgb.fit(sector_returns[:-1], index_returns.iloc[:-1, i])\n",
    "            pred = xgb.predict(sector_returns)\n",
    "            corr = np.corrcoef(pred, index_returns.iloc[:, i])[0, 1]\n",
    "            if corr > best_corr:\n",
    "                best_corr = corr\n",
    "                best_pred = pred\n",
    "        print(f\"Index {i}: predictive correlation = {best_corr}\")\n",
    "        correlations.append(best_corr)\n",
    "        predictions.append(best_pred)\n",
    "    return correlations, np.array(predictions)\n",
    "\n",
    "correlations, predictions = predict_index_returns(index_returns, stock_returns, sectors)\n",
    "\n",
    "cov_matrix = np.cov(predictions)"
   ]
  },
  {
   "cell_type": "code",
   "execution_count": 14,
   "metadata": {},
   "outputs": [
    {
     "name": "stdout",
     "output_type": "stream",
     "text": [
      "[[ 1.56542326e-08  4.35581214e-10 -1.78341040e-09 -1.51461250e-09\n",
      "   2.92493995e-09 -3.77143877e-10  2.85124094e-09  2.21302953e-09\n",
      "   4.33664153e-10 -1.61359272e-09 -8.92153646e-10 -9.97515431e-11\n",
      "   1.82498549e-11  2.27728382e-11 -3.23953270e-10]\n",
      " [ 4.35581214e-10  6.91111685e-10 -4.73801468e-11 -2.53790777e-10\n",
      "   4.50769007e-10 -3.47675247e-10  5.00062850e-10  6.87682146e-11\n",
      "   7.72668648e-11 -2.90723298e-10 -9.50569518e-10 -5.64207764e-12\n",
      "  -2.69671185e-12 -4.05259301e-12 -5.20271927e-11]\n",
      " [-1.78341040e-09 -4.73801468e-11  3.16584269e-09  1.38545875e-10\n",
      "  -3.11544986e-10  4.63306986e-11 -2.43826691e-10 -2.68919780e-10\n",
      "  -3.66300255e-11  1.58423349e-10  8.38152836e-11  5.46863890e-10\n",
      "  -6.87433147e-13  1.95145028e-13  2.87258049e-11]\n",
      " [-1.51461250e-09 -2.53790777e-10  1.38545875e-10  1.97412451e-08\n",
      "  -1.15277381e-09  2.12312271e-10 -6.85045165e-09 -2.17657935e-10\n",
      "  -8.75661949e-10  7.93797984e-10  6.59928910e-10 -7.81767049e-11\n",
      "  -1.41363749e-11 -1.67183538e-09  1.07519904e-10]\n",
      " [ 2.92493995e-09  4.50769007e-10 -3.11544986e-10 -1.15277381e-09\n",
      "   1.58349922e-08 -3.86353471e-10  2.52435817e-09  4.52684279e-10\n",
      "   3.87259665e-10 -6.99551859e-09 -9.10517101e-10  3.95101126e-11\n",
      "   2.72457862e-12  2.15554981e-11 -1.87532686e-09]\n",
      " [-3.77143877e-10 -3.47675247e-10  4.63306986e-11  2.12312271e-10\n",
      "  -3.86353471e-10  2.70313317e-09 -4.26413240e-10 -5.78239711e-11\n",
      "  -6.92399886e-11  2.52377426e-10  5.83974761e-10  2.31583098e-11\n",
      "   2.10813356e-11  1.90574380e-11  5.29595293e-11]\n",
      " [ 2.85124094e-09  5.00062850e-10 -2.43826691e-10 -6.85045165e-09\n",
      "   2.52435817e-09 -4.26413240e-10  1.55406754e-08  4.54377093e-10\n",
      "   2.19098128e-09 -1.52889293e-09 -1.23220866e-09  2.05150110e-12\n",
      "   1.22839447e-11  1.25629220e-10 -2.96821092e-10]\n",
      " [ 2.21302953e-09  6.87682146e-11 -2.68919780e-10 -2.17657935e-10\n",
      "   4.52684279e-10 -5.78239711e-11  4.54377093e-10  5.74896862e-10\n",
      "   6.99613139e-11 -2.51180776e-10 -1.49568944e-10 -2.39542731e-10\n",
      "  -3.59190182e-12 -3.78599408e-12 -4.81786022e-11]\n",
      " [ 4.33664153e-10  7.72668648e-11 -3.66300255e-11 -8.75661949e-10\n",
      "   3.87259665e-10 -6.92399886e-11  2.19098128e-09  6.99613139e-11\n",
      "   5.51446985e-10 -2.26949724e-10 -1.86368170e-10 -6.91583453e-12\n",
      "  -5.76450504e-12 -2.09429441e-10 -4.80843600e-11]\n",
      " [-1.61359272e-09 -2.90723298e-10  1.58423349e-10  7.93797984e-10\n",
      "  -6.99551859e-09  2.52377426e-10 -1.52889293e-09 -2.51180776e-10\n",
      "  -2.26949724e-10  2.05628111e-08  7.71987335e-10 -1.16584048e-10\n",
      "  -1.98504295e-09 -7.25866937e-11  5.68202740e-10]\n",
      " [-8.92153646e-10 -9.50569518e-10  8.38152836e-11  6.59928910e-10\n",
      "  -9.10517101e-10  5.83974761e-10 -1.23220866e-09 -1.49568944e-10\n",
      "  -1.86368170e-10  7.71987335e-10  2.06016647e-08 -4.00029756e-11\n",
      "  -4.08282144e-11 -2.91954187e-11  7.27423193e-11]\n",
      " [-9.97515431e-11 -5.64207764e-12  5.46863890e-10 -7.81767049e-11\n",
      "   3.95101126e-11  2.31583098e-11  2.05150110e-12 -2.39542731e-10\n",
      "  -6.91583453e-12 -1.16584048e-10 -4.00029756e-11  3.40724835e-09\n",
      "   1.11799210e-10  1.01077932e-10  1.10899609e-11]\n",
      " [ 1.82498549e-11 -2.69671185e-12 -6.87433147e-13 -1.41363749e-11\n",
      "   2.72457862e-12  2.10813356e-11  1.22839447e-11 -3.59190182e-12\n",
      "  -5.76450504e-12 -1.98504295e-09 -4.08282144e-11  1.11799210e-10\n",
      "   3.78705196e-09  6.78935244e-11  6.35541221e-10]\n",
      " [ 2.27728382e-11 -4.05259301e-12  1.95145028e-13 -1.67183538e-09\n",
      "   2.15554981e-11  1.90574380e-11  1.25629220e-10 -3.78599408e-12\n",
      "  -2.09429441e-10 -7.25866937e-11 -2.91954187e-11  1.01077932e-10\n",
      "   6.78935244e-11  3.58799586e-09  1.77927790e-11]\n",
      " [-3.23953270e-10 -5.20271927e-11  2.87258049e-11  1.07519904e-10\n",
      "  -1.87532686e-09  5.29595293e-11 -2.96821092e-10 -4.81786022e-11\n",
      "  -4.80843600e-11  5.68202740e-10  7.27423193e-11  1.10899609e-11\n",
      "   6.35541221e-10  1.77927790e-11  3.06703401e-09]]\n"
     ]
    }
   ],
   "source": [
    "print(cov_matrix)"
   ]
  },
  {
   "attachments": {},
   "cell_type": "markdown",
   "metadata": {},
   "source": [
    "#### Problem Statement - 5\n",
    "\n",
    "With $\\mu$ and $\\Sigma$ from the previous part, we used an optimization strategy to find the optimal weights. Our goal of optimization was to maximize the Sharpe ratio, which is the ratio of the expected return to the standard deviation of the return. We used the scipy.optimize.minimize function to minimize the negative of the Sharpe ratio. We wanted to make a risk-free portfolio and hence chose that as the optimization parameter."
   ]
  },
  {
   "cell_type": "code",
   "execution_count": 15,
   "metadata": {},
   "outputs": [
    {
     "name": "stdout",
     "output_type": "stream",
     "text": [
      "Mean: 3.794900695330458e-08\n",
      "Stdev: 3.5819907243014286e-05\n",
      "Sharpe Ratio: 0.001059439006802719\n"
     ]
    }
   ],
   "source": [
    "def strategy(weights, mu, cov_matrix):\n",
    "    return -np.dot(weights, mu) / np.sqrt(np.dot(weights.T, np.dot(cov_matrix, weights)))\n",
    "\n",
    "allocations = pd.DataFrame(index=index_returns.index, columns=index_returns.columns)\n",
    "for t in range(len(index_returns.index) - 7000, len(index_returns.index)):\n",
    "    mu_t = pd.DataFrame(predictions).T.loc[t]\n",
    "    constraints = ({'type': 'eq', 'fun': lambda x: np.sum(x)}, {'type': 'ineq', 'fun': lambda x: 1 - np.abs(x)})\n",
    "    result = minimize(strategy, np.ones(15) / 15, args=(mu_t, cov_matrix), constraints=constraints)\n",
    "    allocations.loc[t] = result.x\n",
    "\n",
    "strategy_returns = (allocations * index_returns).sum(axis=1)\n",
    "\n",
    "# Calculate mean, stdev, and Sharpe ratio\n",
    "mean = strategy_returns.mean()\n",
    "stdev = strategy_returns.std()\n",
    "sharpe = mean / stdev\n",
    "\n",
    "print(\"Mean:\", mean)\n",
    "print(\"Stdev:\", stdev)\n",
    "print(\"Sharpe Ratio:\", sharpe)"
   ]
  },
  {
   "attachments": {},
   "cell_type": "markdown",
   "metadata": {},
   "source": [
    "#### Problem Statement - 6\n",
    "\n",
    "From the above optimization strategy, we have cacluated the following results:\n",
    "Mean = 3.79e-8, Stdev = 3.582e-5, Sharpe Ratio = 0.001\n",
    "\n",
    "Here are the assumptions we made in the above optimization strategy:\n",
    "1. The covariance matrix is stationary over time\n",
    "2. No additional constraints on short-selling, unlike in real-world trading\n",
    "3. No transaction cost for each trade, unlike in real-world trading\n",
    "4. The optimization problem is solved using a convex optimization solver, assuming that the problem is well-posed and has a unique solution"
   ]
  }
 ],
 "metadata": {
  "kernelspec": {
   "display_name": "Python 3",
   "language": "python",
   "name": "python3"
  },
  "language_info": {
   "codemirror_mode": {
    "name": "ipython",
    "version": 3
   },
   "file_extension": ".py",
   "mimetype": "text/x-python",
   "name": "python",
   "nbconvert_exporter": "python",
   "pygments_lexer": "ipython3",
   "version": "3.9.13"
  },
  "orig_nbformat": 4
 },
 "nbformat": 4,
 "nbformat_minor": 2
}
